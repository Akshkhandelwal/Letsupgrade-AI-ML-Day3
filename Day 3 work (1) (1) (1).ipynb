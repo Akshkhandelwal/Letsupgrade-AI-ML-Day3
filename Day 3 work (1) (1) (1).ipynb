{
 "cells": [
  {
   "cell_type": "code",
   "execution_count": 2,
   "metadata": {},
   "outputs": [
    {
     "name": "stdout",
     "output_type": "stream",
     "text": [
      "(-2-2j)\n"
     ]
    }
   ],
   "source": [
    "#Ans1\n",
    "a=3+4j\n",
    "b=5+6j\n",
    "print(a-b)"
   ]
  },
  {
   "cell_type": "code",
   "execution_count": 3,
   "metadata": {},
   "outputs": [
    {
     "name": "stdout",
     "output_type": "stream",
     "text": [
      "enter number64\n",
      "16.0\n"
     ]
    }
   ],
   "source": [
    "#Ans2\n",
    "x=int(input(\"enter number\"))\n",
    "y=x**1/4\n",
    "print(y)"
   ]
  },
  {
   "cell_type": "code",
   "execution_count": 7,
   "metadata": {},
   "outputs": [
    {
     "name": "stdout",
     "output_type": "stream",
     "text": [
      "original number 5 6\n",
      "swapped number 6 5\n"
     ]
    }
   ],
   "source": [
    "#Ans3\n",
    "a=5\n",
    "b=6\n",
    "print(\"original number\",a,b)\n",
    "swap=a\n",
    "a=b\n",
    "b=swap\n",
    "print(\"swapped number\",a,b)\n"
   ]
  },
  {
   "cell_type": "code",
   "execution_count": 15,
   "metadata": {},
   "outputs": [
    {
     "name": "stdout",
     "output_type": "stream",
     "text": [
      "original number 2 3\n",
      "swapped numbers 3 2\n"
     ]
    }
   ],
   "source": [
    "#Ans4\n",
    "a=2\n",
    "b=3\n",
    "print(\"original number\",a,b)\n",
    "a,b=b,a\n",
    "print(\"swapped numbers\",a,b)\n"
   ]
  },
  {
   "cell_type": "markdown",
   "metadata": {},
   "source": [
    "\n"
   ]
  },
  {
   "cell_type": "code",
   "execution_count": 1,
   "metadata": {},
   "outputs": [
    {
     "name": "stdout",
     "output_type": "stream",
     "text": [
      "entertemp in fahrenheit675.7\n",
      "630.6111111111111 357.61111111111114\n"
     ]
    }
   ],
   "source": [
    "#Ans5\n",
    "fahr=float(input(\"entertemp in fahrenheit\"))\n",
    "kelvin=5/9*(fahr-32)+273\n",
    "celsius=5/9*(fahr-32)\n",
    "print(kelvin,celsius)"
   ]
  },
  {
   "cell_type": "code",
   "execution_count": 3,
   "metadata": {},
   "outputs": [
    {
     "name": "stdout",
     "output_type": "stream",
     "text": [
      "<class 'int'>\n",
      "<class 'float'>\n",
      "<class 'complex'>\n",
      "<class 'bool'>\n"
     ]
    }
   ],
   "source": [
    "#Ans6\n",
    "a=5\n",
    "b=6.7\n",
    "c=7+9j\n",
    "d=True\n",
    "print(type(a))\n",
    "print(type(b))\n",
    "print(type(c))\n",
    "print(type(d))"
   ]
  },
  {
   "cell_type": "code",
   "execution_count": null,
   "metadata": {},
   "outputs": [],
   "source": []
  }
 ],
 "metadata": {
  "kernelspec": {
   "display_name": "Python 3",
   "language": "python",
   "name": "python3"
  },
  "language_info": {
   "codemirror_mode": {
    "name": "ipython",
    "version": 3
   },
   "file_extension": ".py",
   "mimetype": "text/x-python",
   "name": "python",
   "nbconvert_exporter": "python",
   "pygments_lexer": "ipython3",
   "version": "3.8.3"
  }
 },
 "nbformat": 4,
 "nbformat_minor": 4
}
